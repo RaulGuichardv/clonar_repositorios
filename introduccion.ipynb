{
 "cells": [
  {
   "cell_type": "markdown",
   "metadata": {},
   "source": [
    "# COMO CLONAR UN REPOSITORIO DE GITHUB EN TU COMPUTADORA.\n",
    "\n",
    "* Ve al repositorio que quieras clonar en github\n",
    "* Copia la url del repositorio o has click en el boton verde code y copia la url\n",
    "* Abre una terminal \n",
    "\n",
    "* Ejecuta el siguiente comando:\n",
    "\n",
    " git clone \"url del repositorio\"\n",
    "\n",
    "* Ejemplo:\n",
    "\n",
    " git clone https://github.com/RaulGuichardv/clonar_repositorios\n",
    "\n",
    "\n",
    "### VERIFICAR EL REPOSITORIO\n",
    "\n",
    "git status\n"
   ]
  }
 ],
 "metadata": {
  "language_info": {
   "name": "python"
  }
 },
 "nbformat": 4,
 "nbformat_minor": 2
}
